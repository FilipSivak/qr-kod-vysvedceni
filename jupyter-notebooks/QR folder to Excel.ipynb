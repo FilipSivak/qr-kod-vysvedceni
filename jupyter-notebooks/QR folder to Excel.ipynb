{
 "cells": [
  {
   "cell_type": "code",
   "execution_count": null,
   "metadata": {},
   "outputs": [],
   "source": [
    "from pyzbar import pyzbar\n",
    "import cv2\n",
    "from pathlib import Path\n",
    "from tqdm import tqdm_notebook\n",
    "import shutil\n",
    "import pandas as pd\n",
    "import re"
   ]
  },
  {
   "cell_type": "code",
   "execution_count": null,
   "metadata": {},
   "outputs": [],
   "source": [
    "FOLDER = Path(\"../data/qr_parsed\")"
   ]
  },
  {
   "cell_type": "code",
   "execution_count": null,
   "metadata": {},
   "outputs": [],
   "source": [
    "def find_qr_detection(detections):\n",
    "    for det in detections:\n",
    "        if det.type == \"QRCODE\":\n",
    "            return det"
   ]
  },
  {
   "cell_type": "code",
   "execution_count": null,
   "metadata": {},
   "outputs": [],
   "source": [
    "GRADE_PATTERN = r\"(.+)\\s{1}([1-5-]{4})\""
   ]
  },
  {
   "cell_type": "code",
   "execution_count": null,
   "metadata": {},
   "outputs": [],
   "source": [
    "def detect_grades(file_path):\n",
    "    # some filenames would not be accepted by opencv\n",
    "    shutil.copy(file_path, \"tmp.jpg\")\n",
    "    img = cv2.imread(\"tmp.jpg\")\n",
    "    \n",
    "    # perform QR code detection\n",
    "    detections = pyzbar.decode(img)\n",
    "    det = find_qr_detection(detections)\n",
    "    \n",
    "    if det is None:\n",
    "        # todo: change to logger\n",
    "        print(\"Could not detect\", file_name)\n",
    "        return\n",
    "      \n",
    "    qr_data_tokens = det.data.decode(\"utf-8\", \"strict\").split(\";\")\n",
    "      \n",
    "    for token in qr_data_tokens:\n",
    "        for match in re.finditer(GRADE_PATTERN, token):\n",
    "            for grade in match.group(2):\n",
    "                if grade != \"-\":\n",
    "                    course = match.group(1)\n",
    "            yield {\"soubor\": Path(file_path).name, \"jmeno\": qr_data_tokens[1], \"predmet\": course, \"znamka\": grade}"
   ]
  },
  {
   "cell_type": "code",
   "execution_count": null,
   "metadata": {},
   "outputs": [],
   "source": [
    "items = []\n",
    "for file_name in FOLDER.glob(\"*.*\"):  \n",
    "    for grades in detect_grades(file_name):\n",
    "        items.append(grades)\n",
    "    break\n",
    "\n",
    "df = pd.DataFrame(items)\n",
    "df"
   ]
  },
  {
   "cell_type": "code",
   "execution_count": null,
   "metadata": {},
   "outputs": [],
   "source": [
    "# store result to excel file\n",
    "df.to_excel(\"marks_qr.xls\", index=False)"
   ]
  },
  {
   "cell_type": "code",
   "execution_count": null,
   "metadata": {},
   "outputs": [],
   "source": [
    "pd.read_excel(\"marks_qr.xls\")"
   ]
  }
 ],
 "metadata": {
  "kernelspec": {
   "display_name": "Python 3",
   "language": "python",
   "name": "python3"
  },
  "language_info": {
   "codemirror_mode": {
    "name": "ipython",
    "version": 3
   },
   "file_extension": ".py",
   "mimetype": "text/x-python",
   "name": "python",
   "nbconvert_exporter": "python",
   "pygments_lexer": "ipython3",
   "version": "3.7.0"
  }
 },
 "nbformat": 4,
 "nbformat_minor": 2
}
